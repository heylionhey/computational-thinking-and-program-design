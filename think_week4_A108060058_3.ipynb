{
  "nbformat": 4,
  "nbformat_minor": 0,
  "metadata": {
    "colab": {
      "name": " think-week4-A108060058-3.ipynb",
      "provenance": [],
      "collapsed_sections": [],
      "include_colab_link": true
    },
    "kernelspec": {
      "name": "python3",
      "display_name": "Python 3"
    }
  },
  "cells": [
    {
      "cell_type": "markdown",
      "metadata": {
        "id": "view-in-github",
        "colab_type": "text"
      },
      "source": [
        "<a href=\"https://colab.research.google.com/github/heylionhey/computational-thinking-and-program-design/blob/master/think_week4_A108060058_3.ipynb\" target=\"_parent\"><img src=\"https://colab.research.google.com/assets/colab-badge.svg\" alt=\"Open In Colab\"/></a>"
      ]
    },
    {
      "cell_type": "code",
      "metadata": {
        "id": "9gyMllMkdPLU",
        "colab_type": "code",
        "outputId": "28c7f0f1-be3e-4e60-d3e6-38e1022a70d7",
        "colab": {
          "base_uri": "https://localhost:8080/",
          "height": 35
        }
      },
      "source": [
        "print(\"Hello World\")"
      ],
      "execution_count": 0,
      "outputs": [
        {
          "output_type": "stream",
          "text": [
            "Hello World\n"
          ],
          "name": "stdout"
        }
      ]
    },
    {
      "cell_type": "code",
      "metadata": {
        "id": "4GavfZ6BdlMA",
        "colab_type": "code",
        "outputId": "79e3f687-f278-44c2-ba27-bb14af778800",
        "colab": {
          "base_uri": "https://localhost:8080/",
          "height": 35
        }
      },
      "source": [
        "print(\"你好嗎\")"
      ],
      "execution_count": 0,
      "outputs": [
        {
          "output_type": "stream",
          "text": [
            "你好嗎\n"
          ],
          "name": "stdout"
        }
      ]
    },
    {
      "cell_type": "code",
      "metadata": {
        "id": "ca5mRq-rdyCO",
        "colab_type": "code",
        "outputId": "d2710dde-8242-4e68-c879-1754e5fffeb0",
        "colab": {
          "base_uri": "https://localhost:8080/",
          "height": 54
        }
      },
      "source": [
        "print(\"Hello World\")\n",
        "print(\"你好嗎\")"
      ],
      "execution_count": 0,
      "outputs": [
        {
          "output_type": "stream",
          "text": [
            "Hello World\n",
            "你好嗎\n"
          ],
          "name": "stdout"
        }
      ]
    },
    {
      "cell_type": "code",
      "metadata": {
        "id": "1BRbnmLJeeSL",
        "colab_type": "code",
        "colab": {}
      },
      "source": [
        ""
      ],
      "execution_count": 0,
      "outputs": []
    },
    {
      "cell_type": "markdown",
      "metadata": {
        "id": "5J7ItILiktjZ",
        "colab_type": "text"
      },
      "source": [
        "安安\n"
      ]
    },
    {
      "cell_type": "markdown",
      "metadata": {
        "id": "klAzjLvkk5vJ",
        "colab_type": "text"
      },
      "source": [
        "收到"
      ]
    },
    {
      "cell_type": "code",
      "metadata": {
        "id": "32B0RlSIk-Dg",
        "colab_type": "code",
        "colab": {}
      },
      "source": [
        ""
      ],
      "execution_count": 0,
      "outputs": []
    }
  ]
}